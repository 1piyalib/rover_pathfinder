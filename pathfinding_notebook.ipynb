{
 "cells": [
  {
   "cell_type": "code",
   "execution_count": 1,
   "metadata": {
    "scrolled": true
   },
   "outputs": [
    {
     "data": {
      "text/html": [
       "<style>.container { width:100% !important; }</style>"
      ],
      "text/plain": [
       "<IPython.core.display.HTML object>"
      ]
     },
     "metadata": {},
     "output_type": "display_data"
    },
    {
     "data": {
      "text/html": [
       "<style>div.output_scroll { height: 44em; }</style>"
      ],
      "text/plain": [
       "<IPython.core.display.HTML object>"
      ]
     },
     "metadata": {},
     "output_type": "display_data"
    },
    {
     "data": {
      "application/vnd.jupyter.widget-view+json": {
       "model_id": "8f49043c55374a1b86c4a2f4917b1c20",
       "version_major": 2,
       "version_minor": 0
      },
      "text/plain": [
       "Image(value=b'\\x89PNG\\r\\n\\x1a\\n\\x00\\x00\\x00\\rIHDR\\x00\\x00\\x04\\xac\\x00\\x00\\x01\\xb8\\x08\\x02\\x00\\x00\\x00\\xe7\\xba\\…"
      ]
     },
     "metadata": {},
     "output_type": "display_data"
    }
   ],
   "source": [
    "###### Header  ####\n",
    "import ipywidgets as widgets\n",
    "from IPython.display import display\n",
    "from IPython.core.display import display, HTML\n",
    "import time\n",
    "\n",
    "#make window wider\n",
    "display(HTML(\"<style>.container { width:100% !important; }</style>\"))\n",
    "#make output box longer\n",
    "display(HTML(\"<style>div.output_scroll { height: 44em; }</style>\"))\n",
    "\n",
    "file = open(\"final_plots/pathfinding_header2.png\", \"rb\")\n",
    "image = file.read()\n",
    "im = widgets.Image(\n",
    "    value=image,\n",
    "    format='png',\n",
    "    width=800,\n",
    "    height=200,\n",
    ")\n",
    "display(im)"
   ]
  },
  {
   "cell_type": "code",
   "execution_count": 2,
   "metadata": {},
   "outputs": [
    {
     "data": {
      "application/vnd.jupyter.widget-view+json": {
       "model_id": "6077e55660274881bfc7db1fee545bf4",
       "version_major": 2,
       "version_minor": 0
      },
      "text/plain": [
       "HTML(value='<h1 style=\"text-align:left;color:blue\">Background</h1>')"
      ]
     },
     "metadata": {},
     "output_type": "display_data"
    },
    {
     "data": {
      "application/vnd.jupyter.widget-view+json": {
       "model_id": "96418e47cf66411d81f04d28c7271577",
       "version_major": 2,
       "version_minor": 0
      },
      "text/plain": [
       "Image(value=b'\\x89PNG\\r\\n\\x1a\\n\\x00\\x00\\x00\\rIHDR\\x00\\x00\\x04\\xbe\\x00\\x00\\x02\\r\\x08\\x02\\x00\\x00\\x00\\xbf\\x0e!\\x…"
      ]
     },
     "metadata": {},
     "output_type": "display_data"
    }
   ],
   "source": [
    "import ipywidgets as widgets \n",
    "titl= widgets.HTML('<h1 style=\"text-align:left;color:blue\">Background</h1>')\n",
    "display(titl)\n",
    "file = open(\"final_plots/background_slide.png\", \"rb\")\n",
    "image = file.read()\n",
    "im = widgets.Image(\n",
    "    value=image,\n",
    "    format='png',\n",
    "    width=800,\n",
    "    height=200,\n",
    ")\n",
    "display(im)"
   ]
  },
  {
   "cell_type": "code",
   "execution_count": 8,
   "metadata": {
    "scrolled": true
   },
   "outputs": [
    {
     "data": {
      "application/vnd.jupyter.widget-view+json": {
       "model_id": "40960b61a5794c6eb43424c23e31208f",
       "version_major": 2,
       "version_minor": 0
      },
      "text/plain": [
       "HTML(value='<h1 style=\"text-align:left;color:blue\">Lunar Data File and Coordinate Conversion</h1>')"
      ]
     },
     "metadata": {},
     "output_type": "display_data"
    },
    {
     "data": {
      "application/vnd.jupyter.widget-view+json": {
       "model_id": "f09ddc3a2e264c94bdb6d87b1b7ef95b",
       "version_major": 2,
       "version_minor": 0
      },
      "text/plain": [
       "Image(value=b'\\x89PNG\\r\\n\\x1a\\n\\x00\\x00\\x00\\rIHDR\\x00\\x00\\x04\\x19\\x00\\x00\\x01\\xdd\\x08\\x02\\x00\\x00\\x00\\xd7\\\\6\\x…"
      ]
     },
     "metadata": {},
     "output_type": "display_data"
    },
    {
     "data": {
      "application/vnd.jupyter.widget-view+json": {
       "model_id": "bfbd63789c0743e2bdc61467cd8087b5",
       "version_major": 2,
       "version_minor": 0
      },
      "text/plain": [
       "HTML(value='<h4 style=\"text-align:left;color:green\">Enter Spherical Coordinate values (R = Height +LUNAR_RADIU…"
      ]
     },
     "metadata": {},
     "output_type": "display_data"
    },
    {
     "data": {
      "application/vnd.jupyter.widget-view+json": {
       "model_id": "dc32b9286bc84d0ea1b7ae5cee24717c",
       "version_major": 2,
       "version_minor": 0
      },
      "text/plain": [
       "HBox(children=(FloatText(value=-89.55467132806403, description='Lat(deg):'), FloatText(value=-130.555273948465…"
      ]
     },
     "metadata": {},
     "output_type": "display_data"
    },
    {
     "data": {
      "application/vnd.jupyter.widget-view+json": {
       "model_id": "f6ac89cc8cff496492dc946d95eb3f94",
       "version_major": 2,
       "version_minor": 0
      },
      "text/plain": [
       "Button(description='Convert to Cartesian', style=ButtonStyle())"
      ]
     },
     "metadata": {},
     "output_type": "display_data"
    }
   ],
   "source": [
    "%matplotlib inline\n",
    "import ipywidgets as widgets \n",
    "from IPython.display import display\n",
    "from IPython.display import clear_output\n",
    "from angle_calculations import *\n",
    "from scatter_plots import *\n",
    "\n",
    "LUNAR_RADIUS = 1737.4 * 1000 #meter\n",
    "\n",
    "titl= widgets.HTML('<h1 style=\"text-align:left;color:blue\">Lunar Data File and Coordinate Conversion</h1>')\n",
    "display(titl)\n",
    "file = open(\"final_plots/coordinate_slide.png\", \"rb\")\n",
    "image = file.read()\n",
    "im = widgets.Image(\n",
    "    value=image,\n",
    "    format='png',\n",
    "    width=800,\n",
    "    height=200,\n",
    ")\n",
    "display(im)\n",
    "\n",
    "titl= widgets.HTML('<h4 style=\"text-align:left;color:green\">Enter Spherical Coordinate values (R = Height +LUNAR_RADIUS)</h4>')\n",
    "display(titl)\n",
    "\n",
    "palong = widgets.FloatText(\n",
    "    value=-130.555273948465,\n",
    "    description='Long(deg):',\n",
    "    disabled=False\n",
    ")\n",
    "palat = widgets.FloatText(\n",
    "    value=-89.55467132806403,\n",
    "    description='Lat(deg):',\n",
    "    disabled=False\n",
    ")\n",
    "pradius = widgets.FloatText(\n",
    "    value=1161,\n",
    "    description='Height(m):',\n",
    "    disabled=False\n",
    ")\n",
    "\n",
    "\n",
    "titlea=  widgets.HTML('<l1>Spherical</l1>')\n",
    "box = widgets.HBox([palat,palong,pradius])\n",
    "display(box)\n",
    "\n",
    "button = widgets.Button(\n",
    "    description='Convert to Cartesian',\n",
    ")\n",
    "\n",
    "\n",
    "#calculate\n",
    "def calculate(b):\n",
    "    x,y,z = spherical_to_cartesion(palat.value,palong.value, pradius.value+LUNAR_RADIUS)\n",
    "    titl= widgets.HTML('<h4 style=\"text-align:left;color:green\">Cartesian Coordinate Values</h4>')\n",
    "    display(titl)\n",
    "    row_label_list = [\"X\", \"Y\", \"Z\"]\n",
    "    row_val_list = [x,y,z]\n",
    "    items=[]\n",
    "    for i in range(len(row_label_list)):\n",
    "        items.append(widgets.FloatText(value=row_val_list[i],description=row_label_list[i],disabled=True))\n",
    "    \n",
    "    b1 = widgets.HBox(items)\n",
    "    #widgets.HBox(row_val_list)\n",
    "    display(b1)\n",
    "    \n",
    "    \n",
    "display(button)\n",
    "button.on_click(calculate)\n"
   ]
  },
  {
   "cell_type": "code",
   "execution_count": 4,
   "metadata": {
    "scrolled": false
   },
   "outputs": [
    {
     "data": {
      "application/vnd.jupyter.widget-view+json": {
       "model_id": "b30a8048e9414669ad904e67589d8d17",
       "version_major": 2,
       "version_minor": 0
      },
      "text/plain": [
       "HTML(value='<h1 style=\"text-align:left;color:blue\">Create Reduced Matrix Files</h1>')"
      ]
     },
     "metadata": {},
     "output_type": "display_data"
    },
    {
     "data": {
      "application/vnd.jupyter.widget-view+json": {
       "model_id": "51fc08dc4b1445f886af05597b2ad6a4",
       "version_major": 2,
       "version_minor": 0
      },
      "text/plain": [
       "Image(value=b'\\x89PNG\\r\\n\\x1a\\n\\x00\\x00\\x00\\rIHDR\\x00\\x00\\x04\\x16\\x00\\x00\\x01\\xb7\\x08\\x02\\x00\\x00\\x00\\x8f8A\\x1…"
      ]
     },
     "metadata": {},
     "output_type": "display_data"
    },
    {
     "data": {
      "application/vnd.jupyter.widget-view+json": {
       "model_id": "fd0f3fcdb9f64d97a925c687fba45f31",
       "version_major": 2,
       "version_minor": 0
      },
      "text/plain": [
       "HTML(value='<h4 style=\"text-align:left;color:green\">Compare Lunar Data to Reduced Matrix</h4>')"
      ]
     },
     "metadata": {},
     "output_type": "display_data"
    },
    {
     "data": {
      "application/vnd.jupyter.widget-view+json": {
       "model_id": "68343d7b67a6491ca7086abe12bf91fd",
       "version_major": 2,
       "version_minor": 0
      },
      "text/plain": [
       "HTML(value='<strong>The 2D terrain was plotted using Matplotlib scatter plot that represents cartesian coordin…"
      ]
     },
     "metadata": {},
     "output_type": "display_data"
    },
    {
     "data": {
      "application/vnd.jupyter.widget-view+json": {
       "model_id": "894dcfd471f448159a243576dd734093",
       "version_major": 2,
       "version_minor": 0
      },
      "text/plain": [
       "HBox(children=(Dropdown(description='Matrix File:', options=('matrix_300_300_cartesian', 'matrix_300_300_spher…"
      ]
     },
     "metadata": {},
     "output_type": "display_data"
    }
   ],
   "source": [
    "#lunar_data.csv\n",
    "#matrix_300_by_300_cartesian\n",
    "#matrix_300_by_300_spherical_zoom\n",
    "#matrix_300_by_300_spherical_all\n",
    "\n",
    "import ipywidgets as widgets\n",
    "from IPython.display import display\n",
    "from IPython.display import clear_output\n",
    "\n",
    "def launch_lun_data():\n",
    "    titl= widgets.HTML('<h1 style=\"text-align:left;color:blue\">Create Reduced Matrix Files</h1>')\n",
    "    display(titl)\n",
    "    \n",
    "    file = open(\"final_plots/reduced_matrix_slide.png\", \"rb\")\n",
    "    image = file.read()\n",
    "    im = widgets.Image(\n",
    "        value=image,\n",
    "        format='png',\n",
    "        width=800,\n",
    "        height=200,\n",
    "    )\n",
    "    display(im)\n",
    "    \n",
    "    \n",
    "\n",
    "    #lunar data file\n",
    "    file = open(\"final_plots/lunar_data.png\", \"rb\")\n",
    "    image = file.read()\n",
    "    im = widgets.Image(value=image,format='png',width=700,height=700,)\n",
    "\n",
    "    matrix_list = ['matrix_300_300_cartesian', 'matrix_300_300_spherical_zoom','matrix_300_300_spherical_all' ]\n",
    "    #label = widgets.Label(\"Compare Lunar Data to -->\")\n",
    "    html_label = widgets.HTML('<h4 style=\"text-align:left;color:green\">Compare Lunar Data to Reduced Matrix</h4>')\n",
    "    display(html_label)\n",
    "    html_text = widgets.HTML('<strong>The 2D terrain was plotted using Matplotlib scatter plot that represents cartesian coordinates of \\\n",
    "      lat (x) and long (y). The  BLUE represents the terrain rover can not overcome and YELLOW is the go path for the rover</strong>')\n",
    "    display(html_text)\n",
    "    drop = widgets.Dropdown(options=matrix_list, description = 'Matrix File:')\n",
    "    button = widgets.Button(description = \"Compare\")\n",
    "    \n",
    "    def clear_me(b):\n",
    "        clear_output(wait=True)\n",
    "        time.sleep(0.5)\n",
    "        launch_lun_data()\n",
    "    button2 = widgets.Button(description = \"Clear Output\")\n",
    "    button2.on_click(clear_me)\n",
    "    \n",
    "   \n",
    "    \n",
    "    items = [drop,button,button2]\n",
    "    sidebyside = widgets.HBox(items)\n",
    "    display(sidebyside)\n",
    "\n",
    "    def graphs(x):\n",
    "        if drop.index == 0:\n",
    "\n",
    "            file = open(\"final_plots/\" +matrix_list[drop.index] +\".png\", \"rb\")\n",
    "            image = file.read()\n",
    "            im1 = widgets.Image(value=image,format='png',width=700,height=700,)\n",
    "\n",
    "            items = [im,im1]\n",
    "            sbs1 = widgets.HBox(items)\n",
    "            display(sbs1)\n",
    "            html_text = widgets.HTML('<strong>The 300x300 cartesian matrix file has less resolution than original lunar file, but is a good reprentation of original data</strong>')\n",
    "            display(html_text)\n",
    "\n",
    "        elif drop.index == 1:\n",
    "\n",
    "            file = open(\"final_plots/\" +matrix_list[drop.index] +\".png\", \"rb\")\n",
    "            image = file.read()\n",
    "            im2 = widgets.Image(value=image,format='png',width=700,height=700,)\n",
    "\n",
    "            items = [im,im2]\n",
    "            sbs2 = widgets.HBox(items)\n",
    "            display(sbs2)\n",
    "            html_text = widgets.HTML('<strong>The 300x300 sprerical zoom matrix file is a subset of original data that is used for creating a maze.  </strong>')\n",
    "            display(html_text)\n",
    "\n",
    "        elif drop.index == 2:\n",
    "\n",
    "            file = open(\"final_plots/\" +matrix_list[drop.index] +\".png\", \"rb\")\n",
    "            image = file.read()\n",
    "            im3 = widgets.Image(value=image,format='png',width=700,height=700,)\n",
    "\n",
    "            items = [im,im3]\n",
    "            sbs3 = widgets.HBox(items)\n",
    "            display(sbs3)\n",
    "\n",
    "        else:\n",
    "            print(\"error\")\n",
    "\n",
    "    button.on_click(graphs) \n",
    "    \n",
    "launch_lun_data()\n"
   ]
  },
  {
   "cell_type": "code",
   "execution_count": 5,
   "metadata": {},
   "outputs": [
    {
     "data": {
      "application/vnd.jupyter.widget-view+json": {
       "model_id": "d338e5459c4c45d1a0dc2321bdb0ece6",
       "version_major": 2,
       "version_minor": 0
      },
      "text/plain": [
       "HTML(value='<h1 style=\"text-align:left;color:blue\">Rover Wayfinding using BFS/A* Algorithm</h1>')"
      ]
     },
     "metadata": {},
     "output_type": "display_data"
    },
    {
     "data": {
      "application/vnd.jupyter.widget-view+json": {
       "model_id": "260c56a4342a4e3c9b7590a21b0afd2f",
       "version_major": 2,
       "version_minor": 0
      },
      "text/plain": [
       "Image(value=b'\\x89PNG\\r\\n\\x1a\\n\\x00\\x00\\x00\\rIHDR\\x00\\x00\\x04\\xd9\\x00\\x00\\x00\\xd8\\x08\\x02\\x00\\x00\\x00YY\\xa2\\x0…"
      ]
     },
     "metadata": {},
     "output_type": "display_data"
    },
    {
     "data": {
      "application/vnd.jupyter.widget-view+json": {
       "model_id": "260d34cfc69e4e9c85382a43a7b09e4f",
       "version_major": 2,
       "version_minor": 0
      },
      "text/plain": [
       "Image(value=b'\\x89PNG\\r\\n\\x1a\\n\\x00\\x00\\x00\\rIHDR\\x00\\x00\\x04E\\x00\\x00\\x01r\\x08\\x02\\x00\\x00\\x00\\x9c>\\xf3]\\x00\\…"
      ]
     },
     "metadata": {},
     "output_type": "display_data"
    },
    {
     "data": {
      "application/vnd.jupyter.widget-view+json": {
       "model_id": "642286a7cb71428d86065de0db755a50",
       "version_major": 2,
       "version_minor": 0
      },
      "text/plain": [
       "HBox(children=(IntSlider(value=15, description='Slope', max=20, min=14), Button(description='Calculate Rover P…"
      ]
     },
     "metadata": {},
     "output_type": "display_data"
    }
   ],
   "source": [
    "%matplotlib inline\n",
    "import ipywidgets as widgets\n",
    "from IPython.display import display\n",
    "from IPython.display import clear_output\n",
    "from maze_bfs import create_slope_plot\n",
    "import matplotlib.pyplot as plt\n",
    "\n",
    " \n",
    "    \n",
    "def launch_rov_way():\n",
    "    titl= widgets.HTML('<h1 style=\"text-align:left;color:blue\">Rover Wayfinding using BFS/A* Algorithm</h1>')\n",
    "    display(titl)\n",
    "    \n",
    "    file = open(\"final_plots/rover_path_slide.png\", \"rb\")\n",
    "    image = file.read()\n",
    "    im = widgets.Image(\n",
    "        value=image,\n",
    "        format='png',\n",
    "        width=800,\n",
    "        height=200,\n",
    "    )\n",
    "    display(im)\n",
    "    \n",
    "    file = open(\"final_plots/bfs_vs_astar_slide.png\", \"rb\")\n",
    "    image = file.read()\n",
    "    im = widgets.Image(\n",
    "        value=image,\n",
    "        format='png',\n",
    "        width=800,\n",
    "        height=200,\n",
    "    )\n",
    "    display(im)\n",
    "        \n",
    "    slope = widgets.IntSlider(min=14,max=20,value = 15, description = \"Slope\")\n",
    "    def calculate_bfs(b):\n",
    "       \n",
    "        #Make plot bigger\n",
    "        plt.rcParams['figure.figsize'] = [15, 10]\n",
    "        plt.rcParams['figure.dpi'] = 100 \n",
    "        create_slope_plot(slope.value)\n",
    "        #titl= widgets.HTML('<h4 style=\"text-align:left;color:green\">Rover path in 3D</h4>')\n",
    "        #display(titl)\n",
    "        #show the 3D graph\n",
    "#         filename1 = \"final_plots/rover_path_3D.png\"\n",
    "#         file = open(filename1,\"rb\")\n",
    "#         image = file.read()\n",
    "#         im = widgets.Image(\n",
    "#             value = image,\n",
    "#             format = 'png',\n",
    "#             width = 700,\n",
    "#             height = 700,\n",
    "#         )\n",
    "#         display(im)\n",
    "\n",
    "    def clear_me(b):\n",
    "        clear_output(wait=True)\n",
    "        time.sleep(0.5)\n",
    "        launch_rov_way()\n",
    "\n",
    "    button1 = widgets.Button(description = \"Calculate Rover Path\")\n",
    "    button1.on_click(calculate_bfs)\n",
    "\n",
    "    button2 = widgets.Button(description = \"Clear Output\")\n",
    "    button2.on_click(clear_me)\n",
    "\n",
    "    box1 = widgets.HBox([slope,button1,button2])\n",
    "    display(box1)\n",
    "\n",
    "launch_rov_way()"
   ]
  },
  {
   "cell_type": "code",
   "execution_count": 6,
   "metadata": {},
   "outputs": [
    {
     "data": {
      "application/vnd.jupyter.widget-view+json": {
       "model_id": "e6bb3e3587574f1482737b2bc9be9829",
       "version_major": 2,
       "version_minor": 0
      },
      "text/plain": [
       "HTML(value='<h1 style=\"text-align:left;color:blue\">Compare Path with Different Rover slope</h1>')"
      ]
     },
     "metadata": {},
     "output_type": "display_data"
    },
    {
     "data": {
      "application/vnd.jupyter.widget-view+json": {
       "model_id": "771f83aba9cc4b92a3c55a402612e02a",
       "version_major": 2,
       "version_minor": 0
      },
      "text/plain": [
       "HTML(value='<strong>The 2D terrain was plotted using Matplotlib scatter plot that represets cartesian coordina…"
      ]
     },
     "metadata": {},
     "output_type": "display_data"
    },
    {
     "data": {
      "application/vnd.jupyter.widget-view+json": {
       "model_id": "a1410f33baf0454687594cf02eccffaa",
       "version_major": 2,
       "version_minor": 0
      },
      "text/plain": [
       "HBox(children=(IntSlider(value=15, description='Slope 1:', max=20, min=14), IntSlider(value=20, description='S…"
      ]
     },
     "metadata": {},
     "output_type": "display_data"
    }
   ],
   "source": [
    "import ipywidgets as widgets\n",
    "from IPython.display import display\n",
    "import time\n",
    "\n",
    "def launch_comp_rov():\n",
    "    titl= widgets.HTML('<h1 style=\"text-align:left;color:blue\">Compare Path with Different Rover slope</h1>')\n",
    "    display(titl)\n",
    "    html_text = widgets.HTML('<strong>The 2D terrain was plotted using Matplotlib scatter plot that represets cartesian coordinates of \\\n",
    "      lat (x) and long (y). The  BLUE represents the terrain rover can not overcome and YELLOW is the go path for the rover</strong>')\n",
    "    display(html_text)\n",
    "    slope1 = widgets.IntSlider(min=14,max=20,value=15,description = \"Slope 1:\")\n",
    "    slope2 = widgets.IntSlider(min=14,max=20,value=20,description = \"Slope 2:\")\n",
    "    #display(slope1)\n",
    "    #display(slope2)\n",
    "    button = widgets.Button(description = \"Compare Path!\")\n",
    "    def clear_me(b):\n",
    "        clear_output(wait=True)\n",
    "        time.sleep(0.5)\n",
    "        launch_comp_rov()\n",
    "    #display(button)\n",
    "    def compare_path(a):\n",
    "        print(\"                              Rover path slope = \", slope1.value, \" vs slope = \", slope2.value)\n",
    "        #to be changed (start)\n",
    "        filename1 = \"final_plots/rover_path_\" + str(slope1.value) + \".png\"\n",
    "        file = open(filename1,\"rb\")\n",
    "        image = file.read()\n",
    "        im = widgets.Image(\n",
    "            value = image,\n",
    "            format = 'png',\n",
    "            width = 700,\n",
    "            height = 700,\n",
    "        )\n",
    "\n",
    "        filename2 = \"final_plots/rover_path_\" + str(slope2.value) + \".png\"\n",
    "        file2 = open(filename2,\"rb\")\n",
    "        image2 = file2.read()\n",
    "        im2 = widgets.Image(\n",
    "            value = image2,\n",
    "            format = 'png',\n",
    "            width = 700,\n",
    "            height = 700,\n",
    "        )\n",
    "        items = [im,im2]\n",
    "        sbs1 = widgets.HBox(items)\n",
    "        display(sbs1)\n",
    "        html_text = widgets.HTML('<strong>The rover designed with a slope = 14 can NOT go from landing to destination.\\\n",
    "         Also, as rover slope increases the path becomes shorter</strong>')\n",
    "        display(html_text)\n",
    "        \n",
    "    button.on_click(compare_path)\n",
    "    button2 = widgets.Button(description = \"Clear Output\")\n",
    "    button2.on_click(clear_me)\n",
    "    box = widgets.HBox([slope1,slope2, button,button2])\n",
    "    display(box)\n",
    "\n",
    "launch_comp_rov()"
   ]
  },
  {
   "cell_type": "code",
   "execution_count": 7,
   "metadata": {
    "scrolled": false
   },
   "outputs": [
    {
     "data": {
      "application/vnd.jupyter.widget-view+json": {
       "model_id": "d8c05baa6ee547fc9173ed7de338444a",
       "version_major": 2,
       "version_minor": 0
      },
      "text/plain": [
       "HTML(value='<h1 style=\"text-align:left;color:blue\">3D Terrain Plots using Plotly</h1>')"
      ]
     },
     "metadata": {},
     "output_type": "display_data"
    },
    {
     "data": {
      "application/vnd.jupyter.widget-view+json": {
       "model_id": "c87a8c5c10444caeaf091570bad6b427",
       "version_major": 2,
       "version_minor": 0
      },
      "text/plain": [
       "Image(value=b'\\x89PNG\\r\\n\\x1a\\n\\x00\\x00\\x00\\rIHDR\\x00\\x00\\x04\\x8c\\x00\\x00\\x01$\\x08\\x02\\x00\\x00\\x00\\xc2C=\\xdc\\x…"
      ]
     },
     "metadata": {},
     "output_type": "display_data"
    },
    {
     "data": {
      "application/vnd.jupyter.widget-view+json": {
       "model_id": "320b12624f324ea19611aed52ca8a92e",
       "version_major": 2,
       "version_minor": 0
      },
      "text/plain": [
       "HTML(value='<strong>The 3D terrain was plotted using Plotly mesh plot that represets three cartesian coordinat…"
      ]
     },
     "metadata": {},
     "output_type": "display_data"
    },
    {
     "data": {
      "application/vnd.jupyter.widget-view+json": {
       "model_id": "ed1173d1b06541c09c0c601fd7214bae",
       "version_major": 2,
       "version_minor": 0
      },
      "text/plain": [
       "HBox(children=(Dropdown(description='Plot:', options=('Height-Cartesian', 'Height-Spherical'), value='Height-C…"
      ]
     },
     "metadata": {},
     "output_type": "display_data"
    }
   ],
   "source": [
    "from terrain_plotly_mesh import *\n",
    "import ipywidgets as widgets\n",
    "from IPython.display import display, clear_output\n",
    "\n",
    "\n",
    "spherical_matrix_file = \"matrix_300_300_spherical_all.csv\"\n",
    "cartesian_matrix_file = \"matrix_300_300_cartesian.csv\"\n",
    "rover_file = 'rover_path.csv'\n",
    "lunar_data_sprical_zoom = 'matrix_300_300_spherical_zoom.csv'\n",
    "    \n",
    "def launch_3d():\n",
    "    titl= widgets.HTML('<h1 style=\"text-align:left;color:blue\">3D Terrain Plots using Plotly</h1>')\n",
    "    display(titl)\n",
    "    \n",
    "    file = open(\"final_plots/generate_graph_slide.png\", \"rb\")\n",
    "    image = file.read()\n",
    "    im = widgets.Image(\n",
    "        value=image,\n",
    "        format='png',\n",
    "        width=800,\n",
    "        height=200,\n",
    "    )\n",
    "    display(im)\n",
    "    \n",
    "    html_text = widgets.HTML('<strong>The 3D terrain was plotted using Plotly mesh plot that represets three cartesian coordinates of \\\n",
    "      lat (x) long (y) and hieght (z).  The rover path was superimposed on the 300x300 matrix file. <br>The colors represent different hieght,\\\n",
    "      with Shakelton crater at the center</strong>')\n",
    "    display(html_text)\n",
    "\n",
    "    spherical_matrix_file = \"matrix_300_300_spherical_all.csv\"\n",
    "    cartesian_matrix_file = \"matrix_300_300_cartesian.csv\"\n",
    "    \n",
    "    plotDropdown = widgets.Dropdown(\n",
    "        options=[\"Height-Cartesian\",\"Height-Spherical\"],\n",
    "        description='Plot:',\n",
    "    )\n",
    "    \n",
    "    calculateButton = widgets.Button(description=\"Plot 3D\")\n",
    "    \n",
    "\n",
    "    def dropdown_func():\n",
    "        if plotDropdown.value == \"Height-Spherical\":\n",
    "             # Plot Height mesh plot from sprical matrix file with no rover path (more resolution at the center)\n",
    "            mesh_plot_height_spherical(spherical_matrix_file, rover_filename=rover_file)\n",
    "        elif  plotDropdown.value == \"Height-Cartesian\":\n",
    "             # Plot Height mesh plot from cartesian matrix file with rover path (uniform resolution)\n",
    "            mesh_plot_height_cartesian(cartesian_matrix_file, rover_filename=rover_file)\n",
    "\n",
    "\n",
    "    def on_button_press(b):\n",
    "        clear_output(wait=True)\n",
    "        launch_3d()\n",
    "        dropdown_func()\n",
    "    \n",
    "    def clear_me(b):\n",
    "        clear_output(wait=True)\n",
    "        launch_3d()\n",
    "        \n",
    "    button2 = widgets.Button(description = \"Clear Output\")\n",
    "    button2.on_click(clear_me)\n",
    "    calculateButton.on_click(on_button_press)\n",
    "    sidebyside = widgets.HBox([plotDropdown, calculateButton,button2])\n",
    "    display(sidebyside)\n",
    "\n",
    "launch_3d()\n"
   ]
  }
 ],
 "metadata": {
  "hide_input": true,
  "kernelspec": {
   "display_name": "Python 3",
   "language": "python",
   "name": "python3"
  },
  "language_info": {
   "codemirror_mode": {
    "name": "ipython",
    "version": 3
   },
   "file_extension": ".py",
   "mimetype": "text/x-python",
   "name": "python",
   "nbconvert_exporter": "python",
   "pygments_lexer": "ipython3",
   "version": "3.6.5"
  },
  "varInspector": {
   "cols": {
    "lenName": 16,
    "lenType": 16,
    "lenVar": 40
   },
   "kernels_config": {
    "python": {
     "delete_cmd_postfix": "",
     "delete_cmd_prefix": "del ",
     "library": "var_list.py",
     "varRefreshCmd": "print(var_dic_list())"
    },
    "r": {
     "delete_cmd_postfix": ") ",
     "delete_cmd_prefix": "rm(",
     "library": "var_list.r",
     "varRefreshCmd": "cat(var_dic_list()) "
    }
   },
   "types_to_exclude": [
    "module",
    "function",
    "builtin_function_or_method",
    "instance",
    "_Feature"
   ],
   "window_display": false
  }
 },
 "nbformat": 4,
 "nbformat_minor": 2
}
